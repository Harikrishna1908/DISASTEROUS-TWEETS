{
 "cells": [
  {
   "cell_type": "code",
   "execution_count": 1,
   "id": "67467bd5",
   "metadata": {
    "_cell_guid": "b1076dfc-b9ad-4769-8c92-a6c4dae69d19",
    "_uuid": "8f2839f25d086af736a60e9eeb907d3b93b6e0e5",
    "execution": {
     "iopub.execute_input": "2023-07-30T11:09:03.197884Z",
     "iopub.status.busy": "2023-07-30T11:09:03.197382Z",
     "iopub.status.idle": "2023-07-30T11:09:03.215968Z",
     "shell.execute_reply": "2023-07-30T11:09:03.214821Z"
    },
    "papermill": {
     "duration": 0.033936,
     "end_time": "2023-07-30T11:09:03.219291",
     "exception": false,
     "start_time": "2023-07-30T11:09:03.185355",
     "status": "completed"
    },
    "tags": []
   },
   "outputs": [
    {
     "name": "stdout",
     "output_type": "stream",
     "text": [
      "/kaggle/input/nlp-getting-started/sample_submission.csv\n",
      "/kaggle/input/nlp-getting-started/train.csv\n",
      "/kaggle/input/nlp-getting-started/test.csv\n"
     ]
    }
   ],
   "source": [
    "# This Python 3 environment comes with many helpful analytics libraries installed\n",
    "# It is defined by the kaggle/python Docker image: https://github.com/kaggle/docker-python\n",
    "# For example, here's several helpful packages to load\n",
    "\n",
    "import numpy as np # linear algebra\n",
    "import pandas as pd # data processing, CSV file I/O (e.g. pd.read_csv)\n",
    "\n",
    "# Input data files are available in the read-only \"../input/\" directory\n",
    "# For example, running this (by clicking run or pressing Shift+Enter) will list all files under the input directory\n",
    "\n",
    "import os\n",
    "for dirname, _, filenames in os.walk('/kaggle/input'):\n",
    "    for filename in filenames:\n",
    "        print(os.path.join(dirname, filename))\n",
    "\n",
    "# You can write up to 20GB to the current directory (/kaggle/working/) that gets preserved as output when you create a version using \"Save & Run All\" \n",
    "# You can also write temporary files to /kaggle/temp/, but they won't be saved outside of the current session"
   ]
  },
  {
   "cell_type": "markdown",
   "id": "f7f93f2b",
   "metadata": {
    "papermill": {
     "duration": 0.008901,
     "end_time": "2023-07-30T11:09:03.241177",
     "exception": false,
     "start_time": "2023-07-30T11:09:03.232276",
     "status": "completed"
    },
    "tags": []
   },
   "source": [
    "# IMPORTING LIBRARIES"
   ]
  },
  {
   "cell_type": "code",
   "execution_count": 2,
   "id": "8a257f57",
   "metadata": {
    "execution": {
     "iopub.execute_input": "2023-07-30T11:09:03.262072Z",
     "iopub.status.busy": "2023-07-30T11:09:03.261566Z",
     "iopub.status.idle": "2023-07-30T11:09:20.271883Z",
     "shell.execute_reply": "2023-07-30T11:09:20.270445Z"
    },
    "papermill": {
     "duration": 17.024371,
     "end_time": "2023-07-30T11:09:20.274720",
     "exception": false,
     "start_time": "2023-07-30T11:09:03.250349",
     "status": "completed"
    },
    "tags": []
   },
   "outputs": [
    {
     "name": "stderr",
     "output_type": "stream",
     "text": [
      "/opt/conda/lib/python3.10/site-packages/scipy/__init__.py:146: UserWarning: A NumPy version >=1.16.5 and <1.23.0 is required for this version of SciPy (detected version 1.23.5\n",
      "  warnings.warn(f\"A NumPy version >={np_minversion} and <{np_maxversion}\"\n",
      "/opt/conda/lib/python3.10/site-packages/tensorflow_io/python/ops/__init__.py:98: UserWarning: unable to load libtensorflow_io_plugins.so: unable to open file: libtensorflow_io_plugins.so, from paths: ['/opt/conda/lib/python3.10/site-packages/tensorflow_io/python/ops/libtensorflow_io_plugins.so']\n",
      "caused by: ['/opt/conda/lib/python3.10/site-packages/tensorflow_io/python/ops/libtensorflow_io_plugins.so: undefined symbol: _ZN3tsl6StatusC1EN10tensorflow5error4CodeESt17basic_string_viewIcSt11char_traitsIcEENS_14SourceLocationE']\n",
      "  warnings.warn(f\"unable to load libtensorflow_io_plugins.so: {e}\")\n",
      "/opt/conda/lib/python3.10/site-packages/tensorflow_io/python/ops/__init__.py:104: UserWarning: file system plugins are not loaded: unable to open file: libtensorflow_io.so, from paths: ['/opt/conda/lib/python3.10/site-packages/tensorflow_io/python/ops/libtensorflow_io.so']\n",
      "caused by: ['/opt/conda/lib/python3.10/site-packages/tensorflow_io/python/ops/libtensorflow_io.so: undefined symbol: _ZTVN10tensorflow13GcsFileSystemE']\n",
      "  warnings.warn(f\"file system plugins are not loaded: {e}\")\n"
     ]
    }
   ],
   "source": [
    "import matplotlib.pyplot as plt\n",
    "import seaborn as sns\n",
    "import nltk\n",
    "import re\n",
    "import spacy\n",
    "from nltk.stem import PorterStemmer\n",
    "from sklearn.feature_extraction.text import TfidfVectorizer\n",
    "from sklearn.preprocessing import StandardScaler\n",
    "from sklearn.model_selection import train_test_split\n",
    "from sklearn.svm import SVC\n",
    "from sklearn.ensemble import RandomForestClassifier\n",
    "from sklearn.metrics import accuracy_score, classification_report, confusion_matrix\n",
    "from nltk.corpus import stopwords\n",
    "from nltk.tokenize import word_tokenize\n"
   ]
  },
  {
   "cell_type": "code",
   "execution_count": 3,
   "id": "449944d6",
   "metadata": {
    "execution": {
     "iopub.execute_input": "2023-07-30T11:09:20.297471Z",
     "iopub.status.busy": "2023-07-30T11:09:20.296678Z",
     "iopub.status.idle": "2023-07-30T11:09:20.374735Z",
     "shell.execute_reply": "2023-07-30T11:09:20.373756Z"
    },
    "papermill": {
     "duration": 0.093062,
     "end_time": "2023-07-30T11:09:20.377389",
     "exception": false,
     "start_time": "2023-07-30T11:09:20.284327",
     "status": "completed"
    },
    "tags": []
   },
   "outputs": [],
   "source": [
    "df= pd.read_csv(\"/kaggle/input/nlp-getting-started/train.csv\")\n",
    "sample = pd.read_csv('/kaggle/input/nlp-getting-started/sample_submission.csv')\n",
    "test = pd.read_csv('/kaggle/input/nlp-getting-started/test.csv')\n"
   ]
  },
  {
   "cell_type": "code",
   "execution_count": 4,
   "id": "065daf8e",
   "metadata": {
    "execution": {
     "iopub.execute_input": "2023-07-30T11:09:20.398392Z",
     "iopub.status.busy": "2023-07-30T11:09:20.397676Z",
     "iopub.status.idle": "2023-07-30T11:09:20.579948Z",
     "shell.execute_reply": "2023-07-30T11:09:20.579177Z"
    },
    "papermill": {
     "duration": 0.195536,
     "end_time": "2023-07-30T11:09:20.582319",
     "exception": false,
     "start_time": "2023-07-30T11:09:20.386783",
     "status": "completed"
    },
    "tags": []
   },
   "outputs": [
    {
     "name": "stdout",
     "output_type": "stream",
     "text": [
      "[nltk_data] Downloading package stopwords to /usr/share/nltk_data...\n",
      "[nltk_data]   Package stopwords is already up-to-date!\n",
      "[nltk_data] Downloading package punkt to /usr/share/nltk_data...\n",
      "[nltk_data]   Package punkt is already up-to-date!\n"
     ]
    },
    {
     "data": {
      "text/plain": [
       "True"
      ]
     },
     "execution_count": 4,
     "metadata": {},
     "output_type": "execute_result"
    }
   ],
   "source": [
    "nltk.download('stopwords')\n",
    "nltk.download('punkt')"
   ]
  },
  {
   "cell_type": "code",
   "execution_count": 5,
   "id": "47e171b9",
   "metadata": {
    "execution": {
     "iopub.execute_input": "2023-07-30T11:09:20.603293Z",
     "iopub.status.busy": "2023-07-30T11:09:20.602858Z",
     "iopub.status.idle": "2023-07-30T11:09:20.628794Z",
     "shell.execute_reply": "2023-07-30T11:09:20.627626Z"
    },
    "papermill": {
     "duration": 0.040012,
     "end_time": "2023-07-30T11:09:20.631636",
     "exception": false,
     "start_time": "2023-07-30T11:09:20.591624",
     "status": "completed"
    },
    "tags": []
   },
   "outputs": [
    {
     "data": {
      "text/html": [
       "<div>\n",
       "<style scoped>\n",
       "    .dataframe tbody tr th:only-of-type {\n",
       "        vertical-align: middle;\n",
       "    }\n",
       "\n",
       "    .dataframe tbody tr th {\n",
       "        vertical-align: top;\n",
       "    }\n",
       "\n",
       "    .dataframe thead th {\n",
       "        text-align: right;\n",
       "    }\n",
       "</style>\n",
       "<table border=\"1\" class=\"dataframe\">\n",
       "  <thead>\n",
       "    <tr style=\"text-align: right;\">\n",
       "      <th></th>\n",
       "      <th>id</th>\n",
       "      <th>keyword</th>\n",
       "      <th>location</th>\n",
       "      <th>text</th>\n",
       "    </tr>\n",
       "  </thead>\n",
       "  <tbody>\n",
       "    <tr>\n",
       "      <th>0</th>\n",
       "      <td>0</td>\n",
       "      <td>NaN</td>\n",
       "      <td>NaN</td>\n",
       "      <td>Just happened a terrible car crash</td>\n",
       "    </tr>\n",
       "    <tr>\n",
       "      <th>1</th>\n",
       "      <td>2</td>\n",
       "      <td>NaN</td>\n",
       "      <td>NaN</td>\n",
       "      <td>Heard about #earthquake is different cities, s...</td>\n",
       "    </tr>\n",
       "    <tr>\n",
       "      <th>2</th>\n",
       "      <td>3</td>\n",
       "      <td>NaN</td>\n",
       "      <td>NaN</td>\n",
       "      <td>there is a forest fire at spot pond, geese are...</td>\n",
       "    </tr>\n",
       "    <tr>\n",
       "      <th>3</th>\n",
       "      <td>9</td>\n",
       "      <td>NaN</td>\n",
       "      <td>NaN</td>\n",
       "      <td>Apocalypse lighting. #Spokane #wildfires</td>\n",
       "    </tr>\n",
       "    <tr>\n",
       "      <th>4</th>\n",
       "      <td>11</td>\n",
       "      <td>NaN</td>\n",
       "      <td>NaN</td>\n",
       "      <td>Typhoon Soudelor kills 28 in China and Taiwan</td>\n",
       "    </tr>\n",
       "    <tr>\n",
       "      <th>...</th>\n",
       "      <td>...</td>\n",
       "      <td>...</td>\n",
       "      <td>...</td>\n",
       "      <td>...</td>\n",
       "    </tr>\n",
       "    <tr>\n",
       "      <th>3258</th>\n",
       "      <td>10861</td>\n",
       "      <td>NaN</td>\n",
       "      <td>NaN</td>\n",
       "      <td>EARTHQUAKE SAFETY LOS ANGELES ÛÒ SAFETY FASTE...</td>\n",
       "    </tr>\n",
       "    <tr>\n",
       "      <th>3259</th>\n",
       "      <td>10865</td>\n",
       "      <td>NaN</td>\n",
       "      <td>NaN</td>\n",
       "      <td>Storm in RI worse than last hurricane. My city...</td>\n",
       "    </tr>\n",
       "    <tr>\n",
       "      <th>3260</th>\n",
       "      <td>10868</td>\n",
       "      <td>NaN</td>\n",
       "      <td>NaN</td>\n",
       "      <td>Green Line derailment in Chicago http://t.co/U...</td>\n",
       "    </tr>\n",
       "    <tr>\n",
       "      <th>3261</th>\n",
       "      <td>10874</td>\n",
       "      <td>NaN</td>\n",
       "      <td>NaN</td>\n",
       "      <td>MEG issues Hazardous Weather Outlook (HWO) htt...</td>\n",
       "    </tr>\n",
       "    <tr>\n",
       "      <th>3262</th>\n",
       "      <td>10875</td>\n",
       "      <td>NaN</td>\n",
       "      <td>NaN</td>\n",
       "      <td>#CityofCalgary has activated its Municipal Eme...</td>\n",
       "    </tr>\n",
       "  </tbody>\n",
       "</table>\n",
       "<p>3263 rows × 4 columns</p>\n",
       "</div>"
      ],
      "text/plain": [
       "         id keyword location  \\\n",
       "0         0     NaN      NaN   \n",
       "1         2     NaN      NaN   \n",
       "2         3     NaN      NaN   \n",
       "3         9     NaN      NaN   \n",
       "4        11     NaN      NaN   \n",
       "...     ...     ...      ...   \n",
       "3258  10861     NaN      NaN   \n",
       "3259  10865     NaN      NaN   \n",
       "3260  10868     NaN      NaN   \n",
       "3261  10874     NaN      NaN   \n",
       "3262  10875     NaN      NaN   \n",
       "\n",
       "                                                   text  \n",
       "0                    Just happened a terrible car crash  \n",
       "1     Heard about #earthquake is different cities, s...  \n",
       "2     there is a forest fire at spot pond, geese are...  \n",
       "3              Apocalypse lighting. #Spokane #wildfires  \n",
       "4         Typhoon Soudelor kills 28 in China and Taiwan  \n",
       "...                                                 ...  \n",
       "3258  EARTHQUAKE SAFETY LOS ANGELES ÛÒ SAFETY FASTE...  \n",
       "3259  Storm in RI worse than last hurricane. My city...  \n",
       "3260  Green Line derailment in Chicago http://t.co/U...  \n",
       "3261  MEG issues Hazardous Weather Outlook (HWO) htt...  \n",
       "3262  #CityofCalgary has activated its Municipal Eme...  \n",
       "\n",
       "[3263 rows x 4 columns]"
      ]
     },
     "execution_count": 5,
     "metadata": {},
     "output_type": "execute_result"
    }
   ],
   "source": [
    "df.head()\n",
    "test"
   ]
  },
  {
   "cell_type": "markdown",
   "id": "cc15ea41",
   "metadata": {
    "papermill": {
     "duration": 0.009629,
     "end_time": "2023-07-30T11:09:20.651197",
     "exception": false,
     "start_time": "2023-07-30T11:09:20.641568",
     "status": "completed"
    },
    "tags": []
   },
   "source": [
    "# TEXT PRE PROCESSING"
   ]
  },
  {
   "cell_type": "code",
   "execution_count": 6,
   "id": "c5c2e044",
   "metadata": {
    "execution": {
     "iopub.execute_input": "2023-07-30T11:09:20.672858Z",
     "iopub.status.busy": "2023-07-30T11:09:20.672436Z",
     "iopub.status.idle": "2023-07-30T11:09:20.681032Z",
     "shell.execute_reply": "2023-07-30T11:09:20.679825Z"
    },
    "papermill": {
     "duration": 0.022604,
     "end_time": "2023-07-30T11:09:20.683647",
     "exception": false,
     "start_time": "2023-07-30T11:09:20.661043",
     "status": "completed"
    },
    "tags": []
   },
   "outputs": [],
   "source": [
    "\n",
    "stop_words = set(stopwords.words('english'))"
   ]
  },
  {
   "cell_type": "code",
   "execution_count": 7,
   "id": "b8271cdc",
   "metadata": {
    "execution": {
     "iopub.execute_input": "2023-07-30T11:09:20.705647Z",
     "iopub.status.busy": "2023-07-30T11:09:20.705222Z",
     "iopub.status.idle": "2023-07-30T11:09:25.517502Z",
     "shell.execute_reply": "2023-07-30T11:09:25.516222Z"
    },
    "papermill": {
     "duration": 4.826642,
     "end_time": "2023-07-30T11:09:25.520240",
     "exception": false,
     "start_time": "2023-07-30T11:09:20.693598",
     "status": "completed"
    },
    "tags": []
   },
   "outputs": [],
   "source": [
    "cleaned_text_list = []\n",
    "for t in df['text']:\n",
    "    # Remove URLs and special characters (keep only alphabets and whitespace)\n",
    "    t = re.sub(r'http\\S+|www\\S+|[^a-zA-Z\\s]', '', t)\n",
    "    tokens = word_tokenize(t)\n",
    "    t= t.lower()\n",
    "    filtered_tokens = [token for token in tokens if token not in stop_words]\n",
    "    stemmer = PorterStemmer()\n",
    "    stemmed_tokens = [stemmer.stem(token) for token in filtered_tokens]\n",
    "    cleaned_text_list.append(' '.join(stemmed_tokens))"
   ]
  },
  {
   "cell_type": "code",
   "execution_count": 8,
   "id": "db2d654e",
   "metadata": {
    "execution": {
     "iopub.execute_input": "2023-07-30T11:09:25.542473Z",
     "iopub.status.busy": "2023-07-30T11:09:25.542063Z",
     "iopub.status.idle": "2023-07-30T11:09:25.566898Z",
     "shell.execute_reply": "2023-07-30T11:09:25.565770Z"
    },
    "papermill": {
     "duration": 0.038772,
     "end_time": "2023-07-30T11:09:25.569234",
     "exception": false,
     "start_time": "2023-07-30T11:09:25.530462",
     "status": "completed"
    },
    "tags": []
   },
   "outputs": [
    {
     "data": {
      "text/html": [
       "<div>\n",
       "<style scoped>\n",
       "    .dataframe tbody tr th:only-of-type {\n",
       "        vertical-align: middle;\n",
       "    }\n",
       "\n",
       "    .dataframe tbody tr th {\n",
       "        vertical-align: top;\n",
       "    }\n",
       "\n",
       "    .dataframe thead th {\n",
       "        text-align: right;\n",
       "    }\n",
       "</style>\n",
       "<table border=\"1\" class=\"dataframe\">\n",
       "  <thead>\n",
       "    <tr style=\"text-align: right;\">\n",
       "      <th></th>\n",
       "      <th>id</th>\n",
       "      <th>keyword</th>\n",
       "      <th>location</th>\n",
       "      <th>text</th>\n",
       "      <th>target</th>\n",
       "      <th>cleaned_text</th>\n",
       "    </tr>\n",
       "  </thead>\n",
       "  <tbody>\n",
       "    <tr>\n",
       "      <th>0</th>\n",
       "      <td>1</td>\n",
       "      <td>NaN</td>\n",
       "      <td>NaN</td>\n",
       "      <td>Our Deeds are the Reason of this #earthquake M...</td>\n",
       "      <td>1</td>\n",
       "      <td>our deed reason earthquak may allah forgiv us</td>\n",
       "    </tr>\n",
       "    <tr>\n",
       "      <th>1</th>\n",
       "      <td>4</td>\n",
       "      <td>NaN</td>\n",
       "      <td>NaN</td>\n",
       "      <td>Forest fire near La Ronge Sask. Canada</td>\n",
       "      <td>1</td>\n",
       "      <td>forest fire near La rong sask canada</td>\n",
       "    </tr>\n",
       "    <tr>\n",
       "      <th>2</th>\n",
       "      <td>5</td>\n",
       "      <td>NaN</td>\n",
       "      <td>NaN</td>\n",
       "      <td>All residents asked to 'shelter in place' are ...</td>\n",
       "      <td>1</td>\n",
       "      <td>all resid ask shelter place notifi offic No ev...</td>\n",
       "    </tr>\n",
       "    <tr>\n",
       "      <th>3</th>\n",
       "      <td>6</td>\n",
       "      <td>NaN</td>\n",
       "      <td>NaN</td>\n",
       "      <td>13,000 people receive #wildfires evacuation or...</td>\n",
       "      <td>1</td>\n",
       "      <td>peopl receiv wildfir evacu order california</td>\n",
       "    </tr>\n",
       "    <tr>\n",
       "      <th>4</th>\n",
       "      <td>7</td>\n",
       "      <td>NaN</td>\n",
       "      <td>NaN</td>\n",
       "      <td>Just got sent this photo from Ruby #Alaska as ...</td>\n",
       "      <td>1</td>\n",
       "      <td>just got sent photo rubi alaska smoke wildfir ...</td>\n",
       "    </tr>\n",
       "    <tr>\n",
       "      <th>...</th>\n",
       "      <td>...</td>\n",
       "      <td>...</td>\n",
       "      <td>...</td>\n",
       "      <td>...</td>\n",
       "      <td>...</td>\n",
       "      <td>...</td>\n",
       "    </tr>\n",
       "    <tr>\n",
       "      <th>7608</th>\n",
       "      <td>10869</td>\n",
       "      <td>NaN</td>\n",
       "      <td>NaN</td>\n",
       "      <td>Two giant cranes holding a bridge collapse int...</td>\n",
       "      <td>1</td>\n",
       "      <td>two giant crane hold bridg collaps nearbi home</td>\n",
       "    </tr>\n",
       "    <tr>\n",
       "      <th>7609</th>\n",
       "      <td>10870</td>\n",
       "      <td>NaN</td>\n",
       "      <td>NaN</td>\n",
       "      <td>@aria_ahrary @TheTawniest The out of control w...</td>\n",
       "      <td>1</td>\n",
       "      <td>ariaahrari thetawniest the control wild fire c...</td>\n",
       "    </tr>\n",
       "    <tr>\n",
       "      <th>7610</th>\n",
       "      <td>10871</td>\n",
       "      <td>NaN</td>\n",
       "      <td>NaN</td>\n",
       "      <td>M1.94 [01:04 UTC]?5km S of Volcano Hawaii. htt...</td>\n",
       "      <td>1</td>\n",
       "      <td>M utckm S volcano hawaii</td>\n",
       "    </tr>\n",
       "    <tr>\n",
       "      <th>7611</th>\n",
       "      <td>10872</td>\n",
       "      <td>NaN</td>\n",
       "      <td>NaN</td>\n",
       "      <td>Police investigating after an e-bike collided ...</td>\n",
       "      <td>1</td>\n",
       "      <td>polic investig ebik collid car littl portug eb...</td>\n",
       "    </tr>\n",
       "    <tr>\n",
       "      <th>7612</th>\n",
       "      <td>10873</td>\n",
       "      <td>NaN</td>\n",
       "      <td>NaN</td>\n",
       "      <td>The Latest: More Homes Razed by Northern Calif...</td>\n",
       "      <td>1</td>\n",
       "      <td>the latest more home raze northern california ...</td>\n",
       "    </tr>\n",
       "  </tbody>\n",
       "</table>\n",
       "<p>7613 rows × 6 columns</p>\n",
       "</div>"
      ],
      "text/plain": [
       "         id keyword location  \\\n",
       "0         1     NaN      NaN   \n",
       "1         4     NaN      NaN   \n",
       "2         5     NaN      NaN   \n",
       "3         6     NaN      NaN   \n",
       "4         7     NaN      NaN   \n",
       "...     ...     ...      ...   \n",
       "7608  10869     NaN      NaN   \n",
       "7609  10870     NaN      NaN   \n",
       "7610  10871     NaN      NaN   \n",
       "7611  10872     NaN      NaN   \n",
       "7612  10873     NaN      NaN   \n",
       "\n",
       "                                                   text  target  \\\n",
       "0     Our Deeds are the Reason of this #earthquake M...       1   \n",
       "1                Forest fire near La Ronge Sask. Canada       1   \n",
       "2     All residents asked to 'shelter in place' are ...       1   \n",
       "3     13,000 people receive #wildfires evacuation or...       1   \n",
       "4     Just got sent this photo from Ruby #Alaska as ...       1   \n",
       "...                                                 ...     ...   \n",
       "7608  Two giant cranes holding a bridge collapse int...       1   \n",
       "7609  @aria_ahrary @TheTawniest The out of control w...       1   \n",
       "7610  M1.94 [01:04 UTC]?5km S of Volcano Hawaii. htt...       1   \n",
       "7611  Police investigating after an e-bike collided ...       1   \n",
       "7612  The Latest: More Homes Razed by Northern Calif...       1   \n",
       "\n",
       "                                           cleaned_text  \n",
       "0         our deed reason earthquak may allah forgiv us  \n",
       "1                  forest fire near La rong sask canada  \n",
       "2     all resid ask shelter place notifi offic No ev...  \n",
       "3           peopl receiv wildfir evacu order california  \n",
       "4     just got sent photo rubi alaska smoke wildfir ...  \n",
       "...                                                 ...  \n",
       "7608     two giant crane hold bridg collaps nearbi home  \n",
       "7609  ariaahrari thetawniest the control wild fire c...  \n",
       "7610                           M utckm S volcano hawaii  \n",
       "7611  polic investig ebik collid car littl portug eb...  \n",
       "7612  the latest more home raze northern california ...  \n",
       "\n",
       "[7613 rows x 6 columns]"
      ]
     },
     "execution_count": 8,
     "metadata": {},
     "output_type": "execute_result"
    }
   ],
   "source": [
    "df['cleaned_text']= cleaned_text_list\n",
    "df"
   ]
  },
  {
   "cell_type": "code",
   "execution_count": 9,
   "id": "7f7e5151",
   "metadata": {
    "execution": {
     "iopub.execute_input": "2023-07-30T11:09:25.592492Z",
     "iopub.status.busy": "2023-07-30T11:09:25.591752Z",
     "iopub.status.idle": "2023-07-30T11:09:25.601643Z",
     "shell.execute_reply": "2023-07-30T11:09:25.600423Z"
    },
    "papermill": {
     "duration": 0.024498,
     "end_time": "2023-07-30T11:09:25.604125",
     "exception": false,
     "start_time": "2023-07-30T11:09:25.579627",
     "status": "completed"
    },
    "tags": []
   },
   "outputs": [
    {
     "data": {
      "text/plain": [
       "0           our deed reason earthquak may allah forgiv us\n",
       "1                    forest fire near La rong sask canada\n",
       "2       all resid ask shelter place notifi offic No ev...\n",
       "3             peopl receiv wildfir evacu order california\n",
       "4       just got sent photo rubi alaska smoke wildfir ...\n",
       "                              ...                        \n",
       "7608       two giant crane hold bridg collaps nearbi home\n",
       "7609    ariaahrari thetawniest the control wild fire c...\n",
       "7610                             M utckm S volcano hawaii\n",
       "7611    polic investig ebik collid car littl portug eb...\n",
       "7612    the latest more home raze northern california ...\n",
       "Name: cleaned_text, Length: 7613, dtype: object"
      ]
     },
     "execution_count": 9,
     "metadata": {},
     "output_type": "execute_result"
    }
   ],
   "source": [
    "df['cleaned_text']"
   ]
  },
  {
   "cell_type": "code",
   "execution_count": 10,
   "id": "1d99be5f",
   "metadata": {
    "execution": {
     "iopub.execute_input": "2023-07-30T11:09:25.626925Z",
     "iopub.status.busy": "2023-07-30T11:09:25.626518Z",
     "iopub.status.idle": "2023-07-30T11:09:25.636300Z",
     "shell.execute_reply": "2023-07-30T11:09:25.635100Z"
    },
    "papermill": {
     "duration": 0.023995,
     "end_time": "2023-07-30T11:09:25.638674",
     "exception": false,
     "start_time": "2023-07-30T11:09:25.614679",
     "status": "completed"
    },
    "tags": []
   },
   "outputs": [
    {
     "data": {
      "text/plain": [
       "0           our deed reason earthquak may allah forgiv us\n",
       "1                    forest fire near La rong sask canada\n",
       "2       all resid ask shelter place notifi offic No ev...\n",
       "3             peopl receiv wildfir evacu order california\n",
       "4       just got sent photo rubi alaska smoke wildfir ...\n",
       "                              ...                        \n",
       "7608       two giant crane hold bridg collaps nearbi home\n",
       "7609    ariaahrari thetawniest the control wild fire c...\n",
       "7610                             M utckm S volcano hawaii\n",
       "7611    polic investig ebik collid car littl portug eb...\n",
       "7612    the latest more home raze northern california ...\n",
       "Name: cleaned_text, Length: 7613, dtype: object"
      ]
     },
     "execution_count": 10,
     "metadata": {},
     "output_type": "execute_result"
    }
   ],
   "source": [
    "df_cleaned = df['cleaned_text'].copy()\n",
    "df_cleaned"
   ]
  },
  {
   "cell_type": "code",
   "execution_count": 11,
   "id": "0e5ae573",
   "metadata": {
    "execution": {
     "iopub.execute_input": "2023-07-30T11:09:25.661700Z",
     "iopub.status.busy": "2023-07-30T11:09:25.661309Z",
     "iopub.status.idle": "2023-07-30T11:09:27.761490Z",
     "shell.execute_reply": "2023-07-30T11:09:27.760374Z"
    },
    "papermill": {
     "duration": 2.114975,
     "end_time": "2023-07-30T11:09:27.764347",
     "exception": false,
     "start_time": "2023-07-30T11:09:25.649372",
     "status": "completed"
    },
    "tags": []
   },
   "outputs": [],
   "source": [
    "cleaned_test_list = []\n",
    "for a in test['text']:\n",
    "    # Remove URLs and special characters (keep only alphabets and whitespace)\n",
    "    a = re.sub(r'http\\S+|www\\S+|[^a-zA-Z\\s]', '', a)\n",
    "    tokens = word_tokenize(a)\n",
    "    a= a.lower()\n",
    "    filtered_tokens = [token for token in tokens if token not in stop_words]\n",
    "    stemmer = PorterStemmer()\n",
    "    stemmed_tokens = [stemmer.stem(token) for token in filtered_tokens]\n",
    "    cleaned_test_list.append(' '.join(stemmed_tokens))"
   ]
  },
  {
   "cell_type": "code",
   "execution_count": 12,
   "id": "a396e100",
   "metadata": {
    "execution": {
     "iopub.execute_input": "2023-07-30T11:09:27.787369Z",
     "iopub.status.busy": "2023-07-30T11:09:27.786924Z",
     "iopub.status.idle": "2023-07-30T11:09:27.798111Z",
     "shell.execute_reply": "2023-07-30T11:09:27.796954Z"
    },
    "papermill": {
     "duration": 0.025595,
     "end_time": "2023-07-30T11:09:27.800568",
     "exception": false,
     "start_time": "2023-07-30T11:09:27.774973",
     "status": "completed"
    },
    "tags": []
   },
   "outputs": [
    {
     "data": {
      "text/plain": [
       "0                           just happen terribl car crash\n",
       "1           heard earthquak differ citi stay safe everyon\n",
       "2       forest fire spot pond gees flee across street ...\n",
       "3                          apocalyps light spokan wildfir\n",
       "4                      typhoon soudelor kill china taiwan\n",
       "                              ...                        \n",
       "3258         earthquak safeti lo angel safeti fasten xrwn\n",
       "3259    storm RI wors last hurrican My cityampoth hard...\n",
       "3260                            green line derail chicago\n",
       "3261                  meg issu hazard weather outlook hwo\n",
       "3262      cityofcalgari activ municip emerg plan yycstorm\n",
       "Name: cleaned_test, Length: 3263, dtype: object"
      ]
     },
     "execution_count": 12,
     "metadata": {},
     "output_type": "execute_result"
    }
   ],
   "source": [
    "test['cleaned_test']=cleaned_test_list\n",
    "test_x=test['cleaned_test']\n",
    "test_x\n"
   ]
  },
  {
   "cell_type": "markdown",
   "id": "694172a1",
   "metadata": {
    "papermill": {
     "duration": 0.010736,
     "end_time": "2023-07-30T11:09:27.822380",
     "exception": false,
     "start_time": "2023-07-30T11:09:27.811644",
     "status": "completed"
    },
    "tags": []
   },
   "source": [
    "# FEATURE EXTRACTION\n"
   ]
  },
  {
   "cell_type": "code",
   "execution_count": 13,
   "id": "f09e2a51",
   "metadata": {
    "execution": {
     "iopub.execute_input": "2023-07-30T11:09:27.846422Z",
     "iopub.status.busy": "2023-07-30T11:09:27.846005Z",
     "iopub.status.idle": "2023-07-30T11:09:28.099251Z",
     "shell.execute_reply": "2023-07-30T11:09:28.098203Z"
    },
    "papermill": {
     "duration": 0.268365,
     "end_time": "2023-07-30T11:09:28.102019",
     "exception": false,
     "start_time": "2023-07-30T11:09:27.833654",
     "status": "completed"
    },
    "tags": []
   },
   "outputs": [],
   "source": [
    "tfidf_vectorizer = TfidfVectorizer()\n",
    "tfidf_features = tfidf_vectorizer.fit_transform(df_cleaned)\n",
    "tfidf_testing=tfidf_vectorizer.transform(test_x)"
   ]
  },
  {
   "cell_type": "code",
   "execution_count": 14,
   "id": "dca2f335",
   "metadata": {
    "execution": {
     "iopub.execute_input": "2023-07-30T11:09:28.125426Z",
     "iopub.status.busy": "2023-07-30T11:09:28.125024Z",
     "iopub.status.idle": "2023-07-30T11:09:28.524741Z",
     "shell.execute_reply": "2023-07-30T11:09:28.523391Z"
    },
    "papermill": {
     "duration": 0.414625,
     "end_time": "2023-07-30T11:09:28.527522",
     "exception": false,
     "start_time": "2023-07-30T11:09:28.112897",
     "status": "completed"
    },
    "tags": []
   },
   "outputs": [
    {
     "name": "stdout",
     "output_type": "stream",
     "text": [
      "[[0. 0. 0. ... 0. 0. 0.]\n",
      " [0. 0. 0. ... 0. 0. 0.]\n",
      " [0. 0. 0. ... 0. 0. 0.]\n",
      " ...\n",
      " [0. 0. 0. ... 0. 0. 0.]\n",
      " [0. 0. 0. ... 0. 0. 0.]\n",
      " [0. 0. 0. ... 0. 0. 0.]]\n"
     ]
    }
   ],
   "source": [
    "print(tfidf_features.toarray())"
   ]
  },
  {
   "cell_type": "code",
   "execution_count": 15,
   "id": "b85b71d8",
   "metadata": {
    "execution": {
     "iopub.execute_input": "2023-07-30T11:09:28.552386Z",
     "iopub.status.busy": "2023-07-30T11:09:28.551873Z",
     "iopub.status.idle": "2023-07-30T11:09:28.557986Z",
     "shell.execute_reply": "2023-07-30T11:09:28.556840Z"
    },
    "papermill": {
     "duration": 0.021706,
     "end_time": "2023-07-30T11:09:28.560470",
     "exception": false,
     "start_time": "2023-07-30T11:09:28.538764",
     "status": "completed"
    },
    "tags": []
   },
   "outputs": [],
   "source": [
    "x = df['cleaned_text']\n",
    "y = df['target']"
   ]
  },
  {
   "cell_type": "code",
   "execution_count": 16,
   "id": "5c7f67c8",
   "metadata": {
    "execution": {
     "iopub.execute_input": "2023-07-30T11:09:28.584223Z",
     "iopub.status.busy": "2023-07-30T11:09:28.583786Z",
     "iopub.status.idle": "2023-07-30T11:09:28.594225Z",
     "shell.execute_reply": "2023-07-30T11:09:28.592933Z"
    },
    "papermill": {
     "duration": 0.025552,
     "end_time": "2023-07-30T11:09:28.596922",
     "exception": false,
     "start_time": "2023-07-30T11:09:28.571370",
     "status": "completed"
    },
    "tags": []
   },
   "outputs": [],
   "source": [
    "x_train, x_test,y_train , y_test = train_test_split(tfidf_features ,y , test_size=0.2, random_state=42)"
   ]
  },
  {
   "cell_type": "markdown",
   "id": "d7de550c",
   "metadata": {
    "papermill": {
     "duration": 0.010779,
     "end_time": "2023-07-30T11:09:28.618842",
     "exception": false,
     "start_time": "2023-07-30T11:09:28.608063",
     "status": "completed"
    },
    "tags": []
   },
   "source": [
    "# ML ALGORITHM"
   ]
  },
  {
   "cell_type": "code",
   "execution_count": 17,
   "id": "d2430aff",
   "metadata": {
    "execution": {
     "iopub.execute_input": "2023-07-30T11:09:28.643180Z",
     "iopub.status.busy": "2023-07-30T11:09:28.642736Z",
     "iopub.status.idle": "2023-07-30T11:09:31.994621Z",
     "shell.execute_reply": "2023-07-30T11:09:31.993345Z"
    },
    "papermill": {
     "duration": 3.36732,
     "end_time": "2023-07-30T11:09:31.997820",
     "exception": false,
     "start_time": "2023-07-30T11:09:28.630500",
     "status": "completed"
    },
    "tags": []
   },
   "outputs": [
    {
     "data": {
      "text/html": [
       "<style>#sk-container-id-1 {color: black;background-color: white;}#sk-container-id-1 pre{padding: 0;}#sk-container-id-1 div.sk-toggleable {background-color: white;}#sk-container-id-1 label.sk-toggleable__label {cursor: pointer;display: block;width: 100%;margin-bottom: 0;padding: 0.3em;box-sizing: border-box;text-align: center;}#sk-container-id-1 label.sk-toggleable__label-arrow:before {content: \"▸\";float: left;margin-right: 0.25em;color: #696969;}#sk-container-id-1 label.sk-toggleable__label-arrow:hover:before {color: black;}#sk-container-id-1 div.sk-estimator:hover label.sk-toggleable__label-arrow:before {color: black;}#sk-container-id-1 div.sk-toggleable__content {max-height: 0;max-width: 0;overflow: hidden;text-align: left;background-color: #f0f8ff;}#sk-container-id-1 div.sk-toggleable__content pre {margin: 0.2em;color: black;border-radius: 0.25em;background-color: #f0f8ff;}#sk-container-id-1 input.sk-toggleable__control:checked~div.sk-toggleable__content {max-height: 200px;max-width: 100%;overflow: auto;}#sk-container-id-1 input.sk-toggleable__control:checked~label.sk-toggleable__label-arrow:before {content: \"▾\";}#sk-container-id-1 div.sk-estimator input.sk-toggleable__control:checked~label.sk-toggleable__label {background-color: #d4ebff;}#sk-container-id-1 div.sk-label input.sk-toggleable__control:checked~label.sk-toggleable__label {background-color: #d4ebff;}#sk-container-id-1 input.sk-hidden--visually {border: 0;clip: rect(1px 1px 1px 1px);clip: rect(1px, 1px, 1px, 1px);height: 1px;margin: -1px;overflow: hidden;padding: 0;position: absolute;width: 1px;}#sk-container-id-1 div.sk-estimator {font-family: monospace;background-color: #f0f8ff;border: 1px dotted black;border-radius: 0.25em;box-sizing: border-box;margin-bottom: 0.5em;}#sk-container-id-1 div.sk-estimator:hover {background-color: #d4ebff;}#sk-container-id-1 div.sk-parallel-item::after {content: \"\";width: 100%;border-bottom: 1px solid gray;flex-grow: 1;}#sk-container-id-1 div.sk-label:hover label.sk-toggleable__label {background-color: #d4ebff;}#sk-container-id-1 div.sk-serial::before {content: \"\";position: absolute;border-left: 1px solid gray;box-sizing: border-box;top: 0;bottom: 0;left: 50%;z-index: 0;}#sk-container-id-1 div.sk-serial {display: flex;flex-direction: column;align-items: center;background-color: white;padding-right: 0.2em;padding-left: 0.2em;position: relative;}#sk-container-id-1 div.sk-item {position: relative;z-index: 1;}#sk-container-id-1 div.sk-parallel {display: flex;align-items: stretch;justify-content: center;background-color: white;position: relative;}#sk-container-id-1 div.sk-item::before, #sk-container-id-1 div.sk-parallel-item::before {content: \"\";position: absolute;border-left: 1px solid gray;box-sizing: border-box;top: 0;bottom: 0;left: 50%;z-index: -1;}#sk-container-id-1 div.sk-parallel-item {display: flex;flex-direction: column;z-index: 1;position: relative;background-color: white;}#sk-container-id-1 div.sk-parallel-item:first-child::after {align-self: flex-end;width: 50%;}#sk-container-id-1 div.sk-parallel-item:last-child::after {align-self: flex-start;width: 50%;}#sk-container-id-1 div.sk-parallel-item:only-child::after {width: 0;}#sk-container-id-1 div.sk-dashed-wrapped {border: 1px dashed gray;margin: 0 0.4em 0.5em 0.4em;box-sizing: border-box;padding-bottom: 0.4em;background-color: white;}#sk-container-id-1 div.sk-label label {font-family: monospace;font-weight: bold;display: inline-block;line-height: 1.2em;}#sk-container-id-1 div.sk-label-container {text-align: center;}#sk-container-id-1 div.sk-container {/* jupyter's `normalize.less` sets `[hidden] { display: none; }` but bootstrap.min.css set `[hidden] { display: none !important; }` so we also need the `!important` here to be able to override the default hidden behavior on the sphinx rendered scikit-learn.org. See: https://github.com/scikit-learn/scikit-learn/issues/21755 */display: inline-block !important;position: relative;}#sk-container-id-1 div.sk-text-repr-fallback {display: none;}</style><div id=\"sk-container-id-1\" class=\"sk-top-container\"><div class=\"sk-text-repr-fallback\"><pre>SVC(kernel=&#x27;linear&#x27;, random_state=42)</pre><b>In a Jupyter environment, please rerun this cell to show the HTML representation or trust the notebook. <br />On GitHub, the HTML representation is unable to render, please try loading this page with nbviewer.org.</b></div><div class=\"sk-container\" hidden><div class=\"sk-item\"><div class=\"sk-estimator sk-toggleable\"><input class=\"sk-toggleable__control sk-hidden--visually\" id=\"sk-estimator-id-1\" type=\"checkbox\" checked><label for=\"sk-estimator-id-1\" class=\"sk-toggleable__label sk-toggleable__label-arrow\">SVC</label><div class=\"sk-toggleable__content\"><pre>SVC(kernel=&#x27;linear&#x27;, random_state=42)</pre></div></div></div></div></div>"
      ],
      "text/plain": [
       "SVC(kernel='linear', random_state=42)"
      ]
     },
     "execution_count": 17,
     "metadata": {},
     "output_type": "execute_result"
    }
   ],
   "source": [
    "svm_model = SVC(kernel='linear', C=1.0, random_state=42)\n",
    "\n",
    "svm_model.fit(x_train, y_train)"
   ]
  },
  {
   "cell_type": "code",
   "execution_count": 18,
   "id": "4974121d",
   "metadata": {
    "execution": {
     "iopub.execute_input": "2023-07-30T11:09:32.025321Z",
     "iopub.status.busy": "2023-07-30T11:09:32.024875Z",
     "iopub.status.idle": "2023-07-30T11:09:33.846951Z",
     "shell.execute_reply": "2023-07-30T11:09:33.845694Z"
    },
    "papermill": {
     "duration": 1.837954,
     "end_time": "2023-07-30T11:09:33.849925",
     "exception": false,
     "start_time": "2023-07-30T11:09:32.011971",
     "status": "completed"
    },
    "tags": []
   },
   "outputs": [],
   "source": [
    "y_pred = svm_model.predict(x_test)\n",
    "test_p=svm_model.predict(tfidf_testing)"
   ]
  },
  {
   "cell_type": "code",
   "execution_count": 19,
   "id": "2374c2dc",
   "metadata": {
    "execution": {
     "iopub.execute_input": "2023-07-30T11:09:33.874156Z",
     "iopub.status.busy": "2023-07-30T11:09:33.873727Z",
     "iopub.status.idle": "2023-07-30T11:09:33.882047Z",
     "shell.execute_reply": "2023-07-30T11:09:33.880793Z"
    },
    "papermill": {
     "duration": 0.023485,
     "end_time": "2023-07-30T11:09:33.884610",
     "exception": false,
     "start_time": "2023-07-30T11:09:33.861125",
     "status": "completed"
    },
    "tags": []
   },
   "outputs": [
    {
     "name": "stdout",
     "output_type": "stream",
     "text": [
      "Confusion Matrix:\n",
      "[[763 111]\n",
      " [209 440]]\n"
     ]
    }
   ],
   "source": [
    "conf_matrix = confusion_matrix(y_test, y_pred)\n",
    "print(\"Confusion Matrix:\")\n",
    "print(conf_matrix)"
   ]
  },
  {
   "cell_type": "code",
   "execution_count": 20,
   "id": "b313ec72",
   "metadata": {
    "execution": {
     "iopub.execute_input": "2023-07-30T11:09:33.908861Z",
     "iopub.status.busy": "2023-07-30T11:09:33.908123Z",
     "iopub.status.idle": "2023-07-30T11:09:33.915201Z",
     "shell.execute_reply": "2023-07-30T11:09:33.913848Z"
    },
    "papermill": {
     "duration": 0.021735,
     "end_time": "2023-07-30T11:09:33.917409",
     "exception": false,
     "start_time": "2023-07-30T11:09:33.895674",
     "status": "completed"
    },
    "tags": []
   },
   "outputs": [
    {
     "name": "stdout",
     "output_type": "stream",
     "text": [
      "Accuracy: 0.79\n"
     ]
    }
   ],
   "source": [
    "accuracy = accuracy_score(y_test, y_pred)\n",
    "print(f\"Accuracy: {accuracy:.2f}\")"
   ]
  },
  {
   "cell_type": "code",
   "execution_count": 21,
   "id": "4f3bd9ce",
   "metadata": {
    "execution": {
     "iopub.execute_input": "2023-07-30T11:09:33.943191Z",
     "iopub.status.busy": "2023-07-30T11:09:33.942014Z",
     "iopub.status.idle": "2023-07-30T11:09:33.960853Z",
     "shell.execute_reply": "2023-07-30T11:09:33.959448Z"
    },
    "papermill": {
     "duration": 0.035489,
     "end_time": "2023-07-30T11:09:33.964217",
     "exception": false,
     "start_time": "2023-07-30T11:09:33.928728",
     "status": "completed"
    },
    "tags": []
   },
   "outputs": [
    {
     "name": "stdout",
     "output_type": "stream",
     "text": [
      "Classification Report:\n",
      "              precision    recall  f1-score   support\n",
      "\n",
      "           0       0.78      0.87      0.83       874\n",
      "           1       0.80      0.68      0.73       649\n",
      "\n",
      "    accuracy                           0.79      1523\n",
      "   macro avg       0.79      0.78      0.78      1523\n",
      "weighted avg       0.79      0.79      0.79      1523\n",
      "\n"
     ]
    }
   ],
   "source": [
    "report = classification_report(y_test, y_pred)\n",
    "print(\"Classification Report:\")\n",
    "print(report)"
   ]
  },
  {
   "cell_type": "code",
   "execution_count": 22,
   "id": "32ba71bc",
   "metadata": {
    "execution": {
     "iopub.execute_input": "2023-07-30T11:09:33.989162Z",
     "iopub.status.busy": "2023-07-30T11:09:33.988751Z",
     "iopub.status.idle": "2023-07-30T11:09:34.000163Z",
     "shell.execute_reply": "2023-07-30T11:09:33.999226Z"
    },
    "papermill": {
     "duration": 0.02651,
     "end_time": "2023-07-30T11:09:34.002506",
     "exception": false,
     "start_time": "2023-07-30T11:09:33.975996",
     "status": "completed"
    },
    "tags": []
   },
   "outputs": [
    {
     "data": {
      "text/html": [
       "<div>\n",
       "<style scoped>\n",
       "    .dataframe tbody tr th:only-of-type {\n",
       "        vertical-align: middle;\n",
       "    }\n",
       "\n",
       "    .dataframe tbody tr th {\n",
       "        vertical-align: top;\n",
       "    }\n",
       "\n",
       "    .dataframe thead th {\n",
       "        text-align: right;\n",
       "    }\n",
       "</style>\n",
       "<table border=\"1\" class=\"dataframe\">\n",
       "  <thead>\n",
       "    <tr style=\"text-align: right;\">\n",
       "      <th></th>\n",
       "      <th>id</th>\n",
       "      <th>target</th>\n",
       "    </tr>\n",
       "  </thead>\n",
       "  <tbody>\n",
       "    <tr>\n",
       "      <th>0</th>\n",
       "      <td>0</td>\n",
       "      <td>0</td>\n",
       "    </tr>\n",
       "    <tr>\n",
       "      <th>1</th>\n",
       "      <td>2</td>\n",
       "      <td>0</td>\n",
       "    </tr>\n",
       "    <tr>\n",
       "      <th>2</th>\n",
       "      <td>3</td>\n",
       "      <td>0</td>\n",
       "    </tr>\n",
       "    <tr>\n",
       "      <th>3</th>\n",
       "      <td>9</td>\n",
       "      <td>0</td>\n",
       "    </tr>\n",
       "    <tr>\n",
       "      <th>4</th>\n",
       "      <td>11</td>\n",
       "      <td>0</td>\n",
       "    </tr>\n",
       "    <tr>\n",
       "      <th>...</th>\n",
       "      <td>...</td>\n",
       "      <td>...</td>\n",
       "    </tr>\n",
       "    <tr>\n",
       "      <th>3258</th>\n",
       "      <td>10861</td>\n",
       "      <td>0</td>\n",
       "    </tr>\n",
       "    <tr>\n",
       "      <th>3259</th>\n",
       "      <td>10865</td>\n",
       "      <td>0</td>\n",
       "    </tr>\n",
       "    <tr>\n",
       "      <th>3260</th>\n",
       "      <td>10868</td>\n",
       "      <td>0</td>\n",
       "    </tr>\n",
       "    <tr>\n",
       "      <th>3261</th>\n",
       "      <td>10874</td>\n",
       "      <td>0</td>\n",
       "    </tr>\n",
       "    <tr>\n",
       "      <th>3262</th>\n",
       "      <td>10875</td>\n",
       "      <td>0</td>\n",
       "    </tr>\n",
       "  </tbody>\n",
       "</table>\n",
       "<p>3263 rows × 2 columns</p>\n",
       "</div>"
      ],
      "text/plain": [
       "         id  target\n",
       "0         0       0\n",
       "1         2       0\n",
       "2         3       0\n",
       "3         9       0\n",
       "4        11       0\n",
       "...     ...     ...\n",
       "3258  10861       0\n",
       "3259  10865       0\n",
       "3260  10868       0\n",
       "3261  10874       0\n",
       "3262  10875       0\n",
       "\n",
       "[3263 rows x 2 columns]"
      ]
     },
     "execution_count": 22,
     "metadata": {},
     "output_type": "execute_result"
    }
   ],
   "source": [
    "sample"
   ]
  },
  {
   "cell_type": "code",
   "execution_count": 23,
   "id": "439b6756",
   "metadata": {
    "execution": {
     "iopub.execute_input": "2023-07-30T11:09:34.035236Z",
     "iopub.status.busy": "2023-07-30T11:09:34.034240Z",
     "iopub.status.idle": "2023-07-30T11:09:34.054985Z",
     "shell.execute_reply": "2023-07-30T11:09:34.052645Z"
    },
    "papermill": {
     "duration": 0.041179,
     "end_time": "2023-07-30T11:09:34.061713",
     "exception": false,
     "start_time": "2023-07-30T11:09:34.020534",
     "status": "completed"
    },
    "tags": []
   },
   "outputs": [],
   "source": [
    "sample['target'] = test_p\n",
    "sample.to_csv('submission.csv', index=False)"
   ]
  },
  {
   "cell_type": "code",
   "execution_count": 24,
   "id": "7968bea8",
   "metadata": {
    "execution": {
     "iopub.execute_input": "2023-07-30T11:09:34.093756Z",
     "iopub.status.busy": "2023-07-30T11:09:34.092679Z",
     "iopub.status.idle": "2023-07-30T11:09:34.105339Z",
     "shell.execute_reply": "2023-07-30T11:09:34.104222Z"
    },
    "papermill": {
     "duration": 0.02915,
     "end_time": "2023-07-30T11:09:34.107580",
     "exception": false,
     "start_time": "2023-07-30T11:09:34.078430",
     "status": "completed"
    },
    "tags": []
   },
   "outputs": [
    {
     "data": {
      "text/html": [
       "<div>\n",
       "<style scoped>\n",
       "    .dataframe tbody tr th:only-of-type {\n",
       "        vertical-align: middle;\n",
       "    }\n",
       "\n",
       "    .dataframe tbody tr th {\n",
       "        vertical-align: top;\n",
       "    }\n",
       "\n",
       "    .dataframe thead th {\n",
       "        text-align: right;\n",
       "    }\n",
       "</style>\n",
       "<table border=\"1\" class=\"dataframe\">\n",
       "  <thead>\n",
       "    <tr style=\"text-align: right;\">\n",
       "      <th></th>\n",
       "      <th>id</th>\n",
       "      <th>target</th>\n",
       "    </tr>\n",
       "  </thead>\n",
       "  <tbody>\n",
       "    <tr>\n",
       "      <th>0</th>\n",
       "      <td>0</td>\n",
       "      <td>1</td>\n",
       "    </tr>\n",
       "    <tr>\n",
       "      <th>1</th>\n",
       "      <td>2</td>\n",
       "      <td>1</td>\n",
       "    </tr>\n",
       "    <tr>\n",
       "      <th>2</th>\n",
       "      <td>3</td>\n",
       "      <td>1</td>\n",
       "    </tr>\n",
       "    <tr>\n",
       "      <th>3</th>\n",
       "      <td>9</td>\n",
       "      <td>1</td>\n",
       "    </tr>\n",
       "    <tr>\n",
       "      <th>4</th>\n",
       "      <td>11</td>\n",
       "      <td>1</td>\n",
       "    </tr>\n",
       "    <tr>\n",
       "      <th>...</th>\n",
       "      <td>...</td>\n",
       "      <td>...</td>\n",
       "    </tr>\n",
       "    <tr>\n",
       "      <th>3258</th>\n",
       "      <td>10861</td>\n",
       "      <td>1</td>\n",
       "    </tr>\n",
       "    <tr>\n",
       "      <th>3259</th>\n",
       "      <td>10865</td>\n",
       "      <td>0</td>\n",
       "    </tr>\n",
       "    <tr>\n",
       "      <th>3260</th>\n",
       "      <td>10868</td>\n",
       "      <td>1</td>\n",
       "    </tr>\n",
       "    <tr>\n",
       "      <th>3261</th>\n",
       "      <td>10874</td>\n",
       "      <td>1</td>\n",
       "    </tr>\n",
       "    <tr>\n",
       "      <th>3262</th>\n",
       "      <td>10875</td>\n",
       "      <td>1</td>\n",
       "    </tr>\n",
       "  </tbody>\n",
       "</table>\n",
       "<p>3263 rows × 2 columns</p>\n",
       "</div>"
      ],
      "text/plain": [
       "         id  target\n",
       "0         0       1\n",
       "1         2       1\n",
       "2         3       1\n",
       "3         9       1\n",
       "4        11       1\n",
       "...     ...     ...\n",
       "3258  10861       1\n",
       "3259  10865       0\n",
       "3260  10868       1\n",
       "3261  10874       1\n",
       "3262  10875       1\n",
       "\n",
       "[3263 rows x 2 columns]"
      ]
     },
     "execution_count": 24,
     "metadata": {},
     "output_type": "execute_result"
    }
   ],
   "source": [
    "sample\n"
   ]
  }
 ],
 "metadata": {
  "kernelspec": {
   "display_name": "Python 3",
   "language": "python",
   "name": "python3"
  },
  "language_info": {
   "codemirror_mode": {
    "name": "ipython",
    "version": 3
   },
   "file_extension": ".py",
   "mimetype": "text/x-python",
   "name": "python",
   "nbconvert_exporter": "python",
   "pygments_lexer": "ipython3",
   "version": "3.10.12"
  },
  "papermill": {
   "default_parameters": {},
   "duration": 45.72733,
   "end_time": "2023-07-30T11:09:37.152364",
   "environment_variables": {},
   "exception": null,
   "input_path": "__notebook__.ipynb",
   "output_path": "__notebook__.ipynb",
   "parameters": {},
   "start_time": "2023-07-30T11:08:51.425034",
   "version": "2.4.0"
  }
 },
 "nbformat": 4,
 "nbformat_minor": 5
}
